{
  "cells": [
    {
      "attachments": {},
      "cell_type": "markdown",
      "metadata": {
        "id": "4WL2xNnNyqeT"
      },
      "source": [
        "## Climate Change: Project Tasmania\n",
        "*   On Canvas, you will find two datasets. The first dataset contains temperature data by countries. Date starts from 1750 for average land temperature and goes up to 2015. Answer the following questions:\n",
        "\n",
        "---\n",
        "1.   For which country and during what year, the highest average temperature was observed?\n",
        "\n",
        "---\n"
      ]
    },
    {
      "cell_type": "code",
      "execution_count": 17,
      "metadata": {
        "colab": {
          "base_uri": "https://localhost:8080/"
        },
        "id": "RmtCb8rHzrSr",
        "outputId": "4085cc05-9037-45be-b055-3cc5c5f3e1d1"
      },
      "outputs": [
        {
          "name": "stdout",
          "output_type": "stream",
          "text": [
            "root\n",
            " |-- dt: string (nullable = true)\n",
            " |-- AverageTemperature: double (nullable = true)\n",
            " |-- AverageTemperatureUncertainty: double (nullable = true)\n",
            " |-- Country: string (nullable = true)\n",
            "\n"
          ]
        }
      ],
      "source": [
        "temperature = spark\\\n",
        "              .read\\\n",
        "              .option(\"inferSchema\", \"true\")\\\n",
        "              .option(\"header\", \"true\")\\\n",
        "              .csv(\"/content/drive/MyDrive/Colab Notebooks/GlobalLandTemperatures_GlobalLandTemperaturesByCountry.csv\")\n",
        "temperature.printSchema()"
      ]
    },
    {
      "cell_type": "code",
      "execution_count": 18,
      "metadata": {
        "colab": {
          "base_uri": "https://localhost:8080/"
        },
        "id": "Q1qP8kS91SJ2",
        "outputId": "d37393b8-9358-4ac3-9fd9-bb856f10b36b"
      },
      "outputs": [
        {
          "name": "stdout",
          "output_type": "stream",
          "text": [
            "+----------+------------------+-----------------------------+-------+\n",
            "|        dt|AverageTemperature|AverageTemperatureUncertainty|Country|\n",
            "+----------+------------------+-----------------------------+-------+\n",
            "|1743-11-01|4.3839999999999995|                        2.294|  Åland|\n",
            "|1743-12-01|              null|                         null|  Åland|\n",
            "|1744-01-01|              null|                         null|  Åland|\n",
            "|1744-02-01|              null|                         null|  Åland|\n",
            "|1744-03-01|              null|                         null|  Åland|\n",
            "+----------+------------------+-----------------------------+-------+\n",
            "only showing top 5 rows\n",
            "\n"
          ]
        }
      ],
      "source": [
        "temperature.show(5)"
      ]
    },
    {
      "cell_type": "code",
      "execution_count": 19,
      "metadata": {
        "colab": {
          "base_uri": "https://localhost:8080/"
        },
        "id": "udp1GrqR2xIm",
        "outputId": "1afbfbc7-ff1e-46e6-a143-f0a5aff639e6"
      },
      "outputs": [
        {
          "name": "stdout",
          "output_type": "stream",
          "text": [
            "Row(dt='2012-07-01', AverageTemperature=38.84200000000001, AverageTemperatureUncertainty=0.464, Country='Kuwait')\n"
          ]
        }
      ],
      "source": [
        "# DataFrame way\n",
        "# find the highest average temperature\n",
        "max_temp = temperature.agg({'AverageTemperature':'max'}).collect()[0][0]\n",
        "max_temp_info = temperature.filter(temperature.AverageTemperature == max_temp).first()\n",
        "\n",
        "print(max_temp_info)"
      ]
    },
    {
      "cell_type": "code",
      "execution_count": 20,
      "metadata": {
        "colab": {
          "base_uri": "https://localhost:8080/"
        },
        "id": "uNaiPr2R200x",
        "outputId": "bf126cdf-0000-412c-aa65-1a9d85436169"
      },
      "outputs": [
        {
          "name": "stdout",
          "output_type": "stream",
          "text": [
            "+----------+------------------+-----------------------------+-------+\n",
            "|        dt|AverageTemperature|AverageTemperatureUncertainty|Country|\n",
            "+----------+------------------+-----------------------------+-------+\n",
            "|2012-07-01| 38.84200000000001|                        0.464| Kuwait|\n",
            "+----------+------------------+-----------------------------+-------+\n",
            "\n"
          ]
        }
      ],
      "source": [
        "# SQL way\n",
        "temperature.createOrReplaceTempView(\"temperature\")\n",
        "\n",
        "max_temp_sql = spark.sql(\"\"\"\n",
        "SELECT *\n",
        "FROM temperature\n",
        "WHERE AverageTemperature = (SELECT MAX(AverageTemperature)\n",
        "FROM temperature)\n",
        "\"\"\")\n",
        "\n",
        "max_temp_sql.show()"
      ]
    },
    {
      "attachments": {},
      "cell_type": "markdown",
      "metadata": {
        "id": "2cIZQ45h2kWn"
      },
      "source": [
        "---\n",
        "2.   Analyze the data by country over the years, and name which are the top 10 countries with the biggest change in average temperature.\n",
        "\n",
        "---"
      ]
    },
    {
      "cell_type": "code",
      "execution_count": 21,
      "metadata": {
        "colab": {
          "base_uri": "https://localhost:8080/"
        },
        "id": "eRKo7GGB1SDp",
        "outputId": "9f814f8b-819d-4bf0-e461-b540bd52b1a7"
      },
      "outputs": [
        {
          "name": "stdout",
          "output_type": "stream",
          "text": [
            "+------------+------------------+\n",
            "|     Country|              Diff|\n",
            "+------------+------------------+\n",
            "|  Kazakhstan|            49.163|\n",
            "|    Mongolia|48.157999999999994|\n",
            "|      Russia|             47.47|\n",
            "|      Canada|            43.532|\n",
            "|  Uzbekistan|            42.698|\n",
            "|Turkmenistan|            40.579|\n",
            "|     Finland|            40.332|\n",
            "|     Belarus|            39.338|\n",
            "|     Ukraine|            39.021|\n",
            "|     Estonia|38.882999999999996|\n",
            "+------------+------------------+\n",
            "\n"
          ]
        }
      ],
      "source": [
        "# DataFrame way\n",
        "# find the top 10 countries with the biggest change in average temperature\n",
        "diff_df = temperature.filter(temperature.AverageTemperature.isNotNull())\\\n",
        "  .groupBy('Country').agg(max('AverageTemperature') - min('AverageTemperature'))\\\n",
        "  .withColumnRenamed('(max(AverageTemperature) - min(AverageTemperature))', 'Diff')\\\n",
        "  .sort('Diff', ascending = False).limit(10)\n",
        "\n",
        "diff_df.show()"
      ]
    },
    {
      "cell_type": "code",
      "execution_count": 22,
      "metadata": {
        "colab": {
          "base_uri": "https://localhost:8080/"
        },
        "id": "8jthrr0N1SHR",
        "outputId": "630c39cb-ca8b-4c50-bfde-21bcb4ca3fc4"
      },
      "outputs": [
        {
          "name": "stdout",
          "output_type": "stream",
          "text": [
            "+------------+------------------+\n",
            "|     Country|              Diff|\n",
            "+------------+------------------+\n",
            "|  Kazakhstan|            49.163|\n",
            "|    Mongolia|48.157999999999994|\n",
            "|      Russia|             47.47|\n",
            "|      Canada|            43.532|\n",
            "|  Uzbekistan|            42.698|\n",
            "|Turkmenistan|            40.579|\n",
            "|     Finland|            40.332|\n",
            "|     Belarus|            39.338|\n",
            "|     Ukraine|            39.021|\n",
            "|     Estonia|38.882999999999996|\n",
            "+------------+------------------+\n",
            "\n"
          ]
        }
      ],
      "source": [
        "# SQL way\n",
        "temperature.createOrReplaceTempView(\"temperature\")\n",
        "\n",
        "diff_sql = spark.sql(\"\"\"\n",
        "SELECT Country, MAX(AverageTemperature) - MIN(AverageTemperature) as Diff\n",
        "FROM temperature\n",
        "WHERE AverageTemperature IS NOT NULL\n",
        "GROUP BY Country\n",
        "ORDER BY Diff DESC\n",
        "LIMIT 10\n",
        "\"\"\")\n",
        "\n",
        "diff_sql.show()"
      ]
    },
    {
      "attachments": {},
      "cell_type": "markdown",
      "metadata": {
        "id": "4J7f8QWM01FN"
      },
      "source": [
        "*    The second dataset contains data on CO2 Emissions per capita across countries from 1960 to 2014.\n",
        "---\n",
        "1.   Merge the two datasets by country, and keep the data from 1960 to 2014.\n",
        "\n",
        "---\n",
        "\n"
      ]
    },
    {
      "cell_type": "code",
      "execution_count": 23,
      "metadata": {
        "colab": {
          "base_uri": "https://localhost:8080/"
        },
        "id": "6qaRM9Yw34En",
        "outputId": "0fdbe74d-9467-489e-a453-640e49e7efbe"
      },
      "outputs": [
        {
          "name": "stdout",
          "output_type": "stream",
          "text": [
            "root\n",
            " |-- Country Name: string (nullable = true)\n",
            " |-- Country Code: string (nullable = true)\n",
            " |-- 1960: double (nullable = true)\n",
            " |-- 1961: double (nullable = true)\n",
            " |-- 1962: double (nullable = true)\n",
            " |-- 1963: double (nullable = true)\n",
            " |-- 1964: double (nullable = true)\n",
            " |-- 1965: double (nullable = true)\n",
            " |-- 1966: double (nullable = true)\n",
            " |-- 1967: double (nullable = true)\n",
            " |-- 1968: double (nullable = true)\n",
            " |-- 1969: double (nullable = true)\n",
            " |-- 1970: double (nullable = true)\n",
            " |-- 1971: double (nullable = true)\n",
            " |-- 1972: double (nullable = true)\n",
            " |-- 1973: double (nullable = true)\n",
            " |-- 1974: double (nullable = true)\n",
            " |-- 1975: double (nullable = true)\n",
            " |-- 1976: double (nullable = true)\n",
            " |-- 1977: double (nullable = true)\n",
            " |-- 1978: double (nullable = true)\n",
            " |-- 1979: double (nullable = true)\n",
            " |-- 1980: double (nullable = true)\n",
            " |-- 1981: double (nullable = true)\n",
            " |-- 1982: double (nullable = true)\n",
            " |-- 1983: double (nullable = true)\n",
            " |-- 1984: double (nullable = true)\n",
            " |-- 1985: double (nullable = true)\n",
            " |-- 1986: double (nullable = true)\n",
            " |-- 1987: double (nullable = true)\n",
            " |-- 1988: double (nullable = true)\n",
            " |-- 1989: double (nullable = true)\n",
            " |-- 1990: double (nullable = true)\n",
            " |-- 1991: double (nullable = true)\n",
            " |-- 1992: double (nullable = true)\n",
            " |-- 1993: double (nullable = true)\n",
            " |-- 1994: double (nullable = true)\n",
            " |-- 1995: double (nullable = true)\n",
            " |-- 1996: double (nullable = true)\n",
            " |-- 1997: double (nullable = true)\n",
            " |-- 1998: double (nullable = true)\n",
            " |-- 1999: double (nullable = true)\n",
            " |-- 2000: double (nullable = true)\n",
            " |-- 2001: double (nullable = true)\n",
            " |-- 2002: double (nullable = true)\n",
            " |-- 2003: double (nullable = true)\n",
            " |-- 2004: double (nullable = true)\n",
            " |-- 2005: double (nullable = true)\n",
            " |-- 2006: double (nullable = true)\n",
            " |-- 2007: double (nullable = true)\n",
            " |-- 2008: double (nullable = true)\n",
            " |-- 2009: double (nullable = true)\n",
            " |-- 2010: double (nullable = true)\n",
            " |-- 2011: double (nullable = true)\n",
            " |-- 2012: double (nullable = true)\n",
            " |-- 2013: double (nullable = true)\n",
            " |-- 2014: double (nullable = true)\n",
            " |-- 2015: string (nullable = true)\n",
            " |-- 2016: string (nullable = true)\n",
            " |-- 2017: string (nullable = true)\n",
            " |-- 2018: string (nullable = true)\n",
            "\n"
          ]
        }
      ],
      "source": [
        "CO2emissions = spark\\\n",
        "              .read\\\n",
        "              .option(\"inferSchema\", \"true\")\\\n",
        "              .option(\"header\", \"true\")\\\n",
        "              .csv(\"/content/drive/MyDrive/Colab Notebooks/CO2 emissions per capita per country.csv\")\n",
        "CO2emissions.printSchema()"
      ]
    },
    {
      "cell_type": "code",
      "execution_count": 24,
      "metadata": {
        "colab": {
          "base_uri": "https://localhost:8080/"
        },
        "id": "jTk0Pojd34Bw",
        "outputId": "3084dfb4-6d7d-419f-e4df-6bc3e21100ba"
      },
      "outputs": [
        {
          "name": "stdout",
          "output_type": "stream",
          "text": [
            "+------------+------------+-----------+-----------+-----------+-----------+-----------+-----------+-----------+-----------+-----------+-----------+-----------+-----------+-----------+-----------+-----------+-----------+-----------+-----------+-----------+-----------+-----------+-----------+-----------+-----------+-----------+-----------+-----------+-----------+-----------+-----------+-----------+-----------+-----------+-----------+-----------+-----------+-----------+-----------+-----------+-----------+-----------+-----------+-----------+-----------+-----------+-----------+-----------+-----------+-----------+-----------+-----------+-----------+-----------+-----------+-----------+----+----+----+----+\n",
            "|Country Name|Country Code|       1960|       1961|       1962|       1963|       1964|       1965|       1966|       1967|       1968|       1969|       1970|       1971|       1972|       1973|       1974|       1975|       1976|       1977|       1978|       1979|       1980|       1981|       1982|       1983|       1984|       1985|       1986|       1987|       1988|       1989|       1990|       1991|       1992|       1993|       1994|       1995|       1996|       1997|       1998|       1999|       2000|       2001|       2002|       2003|       2004|       2005|       2006|       2007|       2008|       2009|       2010|       2011|       2012|       2013|       2014|2015|2016|2017|2018|\n",
            "+------------+------------+-----------+-----------+-----------+-----------+-----------+-----------+-----------+-----------+-----------+-----------+-----------+-----------+-----------+-----------+-----------+-----------+-----------+-----------+-----------+-----------+-----------+-----------+-----------+-----------+-----------+-----------+-----------+-----------+-----------+-----------+-----------+-----------+-----------+-----------+-----------+-----------+-----------+-----------+-----------+-----------+-----------+-----------+-----------+-----------+-----------+-----------+-----------+-----------+-----------+-----------+-----------+-----------+-----------+-----------+-----------+----+----+----+----+\n",
            "|       Aruba|         ABW|       null|       null|       null|       null|       null|       null|       null|       null|       null|       null|       null|       null|       null|       null|       null|       null|       null|       null|       null|       null|       null|       null|       null|       null|       null|       null|2.868319392|7.235198033|10.02617921| 10.6347326|26.37450321| 26.0461298| 21.4425588|22.00078616|21.03624511|20.77193616|20.31835337|20.42681771|20.58766915|20.31156677|26.19487524|25.93402441|25.67116178|26.42045209|26.51729342|27.20070778|26.94826047|  27.895574|26.23084664|25.91583295|24.67052887| 24.5058352|13.15554169|8.351294252|8.408362638|null|null|null|null|\n",
            "| Afghanistan|         AFG|0.046059897|0.053604304|0.073764791|0.074232685|0.086292452|0.101467397|0.107636955|0.123734289| 0.11549774| 0.08682346|0.150290627|0.166042044| 0.13076385|0.136279785|0.155649444|0.168928649|0.154787206|0.182963616|0.163159571|0.168376671|0.132858608|0.151972881|0.164803883|0.203635582|0.234987713|0.297827727|0.270891121|0.271611659|0.248472561|0.235694613|0.213449805|0.187672724|0.099666474|0.089154036| 0.08003917|0.072698618|0.066044698|0.059648382| 0.05520717|0.042332597| 0.03850634|0.039002334|0.048715548|  0.0518296|0.039377828|0.052948215|0.063728472|0.085417506|0.154101422|0.241722682|0.293836994|0.412016938|0.350370581|0.315601773|0.299444991|null|null|null|null|\n",
            "|      Angola|         AGO|0.097471604|0.079038085|0.201289076|0.192534735|0.201003361|0.191528411|0.246412785|0.154911578|0.256315998|0.419550564|0.528697988|0.492302233|0.635214721|0.670624323|0.652023363|0.574693143|0.415850303|0.434755038|0.646179204|0.636944237|0.598717343|0.571201904|0.485251545|0.515071547|0.487395694|0.443121443|0.426768722|  0.5184278|0.445557344|0.423524277|0.420284254|0.405450105|0.400678653|0.430889258|0.281092579|0.769173426|0.712306341|0.489209377| 0.47137391|0.574083595|0.580352661|0.573047493|0.720768849|0.497975073|0.996165478|0.979740026|1.098883898|1.197843982|1.181526759|1.232494515|1.243405585|1.252789255|1.330843018|1.254617218|1.291328315|null|null|null|null|\n",
            "|     Albania|         ALB|1.258194928|1.374186047|1.439955964|1.181681144| 1.11174196|1.166099043|1.333055465|  1.3637463|1.519551277|1.558967572|1.753239905|1.989497923|2.515914398|2.303897417|1.849006691|1.910633637|2.013584562|2.275876391| 2.53062504|2.898208518| 1.93505831|2.693023914|2.624856785|2.683239919|2.694291374|2.658015382|2.665356221|2.414060815|2.331598531|2.783243075|1.678106654|  1.3122126|0.774724911|0.723790292|0.600203708|0.654537133|0.636625313| 0.49036506|0.560271437|0.960164412|0.978174681|1.053304176|1.229540709|1.412697196|1.376212735|1.412498211|1.302576367|1.322334855|1.484311139|1.495600199|1.578573584|1.803714725|1.692908325|1.749211079|1.978763312|null|null|null|null|\n",
            "|     Andorra|         AND|       null|       null|       null|       null|       null|       null|       null|       null|       null|       null|       null|       null|       null|       null|       null|       null|       null|       null|       null|       null|       null|       null|       null|       null|       null|       null|       null|       null|       null|       null|7.467335669|7.182456636|6.912053389|6.736054846|6.494200424|6.662051684|7.065071473|7.239712718|7.660783886|7.975454404|8.019284294|7.786950001|7.590615141|7.315760706|7.358624941|7.299871936|6.746218716|6.519465912|6.427886622|6.121652341|6.122594702|5.867129945|5.916596911|5.900752587|5.832169951|null|null|null|null|\n",
            "+------------+------------+-----------+-----------+-----------+-----------+-----------+-----------+-----------+-----------+-----------+-----------+-----------+-----------+-----------+-----------+-----------+-----------+-----------+-----------+-----------+-----------+-----------+-----------+-----------+-----------+-----------+-----------+-----------+-----------+-----------+-----------+-----------+-----------+-----------+-----------+-----------+-----------+-----------+-----------+-----------+-----------+-----------+-----------+-----------+-----------+-----------+-----------+-----------+-----------+-----------+-----------+-----------+-----------+-----------+-----------+-----------+----+----+----+----+\n",
            "only showing top 5 rows\n",
            "\n"
          ]
        }
      ],
      "source": [
        "CO2emissions.show(5)"
      ]
    },
    {
      "cell_type": "code",
      "execution_count": 25,
      "metadata": {
        "colab": {
          "base_uri": "https://localhost:8080/"
        },
        "id": "yAVgZDb3KjSx",
        "outputId": "1ce3513a-4a62-4af5-e8f0-bee4faee4225"
      },
      "outputs": [
        {
          "name": "stdout",
          "output_type": "stream",
          "text": [
            "+-----------+----+------------------+\n",
            "|    Country|Year|           AvgTemp|\n",
            "+-----------+----+------------------+\n",
            "|Afghanistan|1960|13.985416666666667|\n",
            "|Afghanistan|1961|14.064916666666667|\n",
            "|Afghanistan|1962|13.768666666666666|\n",
            "|Afghanistan|1963|15.033416666666666|\n",
            "|Afghanistan|1964|13.084916666666667|\n",
            "|Afghanistan|1965|14.101833333333333|\n",
            "|Afghanistan|1966|14.342999999999998|\n",
            "|Afghanistan|1967|          13.66325|\n",
            "|Afghanistan|1968|13.762333333333332|\n",
            "|Afghanistan|1969|13.805083333333336|\n",
            "+-----------+----+------------------+\n",
            "only showing top 10 rows\n",
            "\n"
          ]
        }
      ],
      "source": [
        "temperature.createOrReplaceTempView(\"temperature\")\n",
        "\n",
        "df1 = spark.sql(\"\"\"\n",
        "SELECT Country, Year, AVG(AverageTemperature) as AvgTemp\n",
        "FROM (SELECT Country, LEFT(dt, 4) as Year, AverageTemperature\n",
        "FROM temperature\n",
        "WHERE AverageTemperature IS NOT NULL) AS tmp\n",
        "WHERE Year BETWEEN 1960 AND 2014\n",
        "GROUP BY Country, Year\n",
        "ORDER BY Country, Year\n",
        "\"\"\")\n",
        "\n",
        "df1.show(10)"
      ]
    },
    {
      "cell_type": "code",
      "execution_count": 26,
      "metadata": {
        "id": "hEthBjOFkuM2"
      },
      "outputs": [],
      "source": [
        "# from Github: https://gist.github.com/korkridake/972e315e5ce094096e17c6ad1ef599fd\n",
        "from pyspark.sql.functions import array, col, explode, lit, struct\n",
        "from pyspark.sql import DataFrame\n",
        "from typing import Iterable\n",
        "\n",
        "def melt(\n",
        "        df: DataFrame, \n",
        "        id_vars: Iterable[str], value_vars: Iterable[str], \n",
        "        var_name: str=\"variable\", value_name: str=\"value\") -> DataFrame:\n",
        "    \"\"\"\n",
        "    Convert :class:`DataFrame` from wide to long format.\n",
        "    Source: https://stackoverflow.com/questions/41670103/how-to-melt-spark-dataframe\n",
        "    \"\"\"\n",
        "\n",
        "    # -------------------------------------------------------------------------------\n",
        "    # Create array<struct<variable: str, value: ...>>\n",
        "    # -------------------------------------------------------------------------------\n",
        "    _vars_and_vals = array(*(\n",
        "        struct(lit(c).alias(var_name), col(c).alias(value_name)) \n",
        "        for c in value_vars))\n",
        "\n",
        "    # -------------------------------------------------------------------------------\n",
        "    # Add to the DataFrame and explode\n",
        "    # -------------------------------------------------------------------------------\n",
        "    _tmp = df.withColumn(\"_vars_and_vals\", explode(_vars_and_vals))\n",
        "\n",
        "    cols = id_vars + [\n",
        "            col(\"_vars_and_vals\")[x].alias(x) for x in [var_name, value_name]]\n",
        "    return _tmp.select(*cols)"
      ]
    },
    {
      "cell_type": "code",
      "execution_count": 27,
      "metadata": {
        "colab": {
          "base_uri": "https://localhost:8080/"
        },
        "id": "639dk8GdUGb0",
        "outputId": "8d6f68be-2acf-48a7-86b9-df56751ec7c9"
      },
      "outputs": [
        {
          "name": "stdout",
          "output_type": "stream",
          "text": [
            "+------------+----+-------------+\n",
            "|Country Name|Year|CO2 emissions|\n",
            "+------------+----+-------------+\n",
            "|       Aruba|1986|  2.868319392|\n",
            "|       Aruba|1987|  7.235198033|\n",
            "|       Aruba|1988|  10.02617921|\n",
            "|       Aruba|1989|   10.6347326|\n",
            "|       Aruba|1990|  26.37450321|\n",
            "|       Aruba|1991|   26.0461298|\n",
            "|       Aruba|1992|   21.4425588|\n",
            "|       Aruba|1993|  22.00078616|\n",
            "|       Aruba|1994|  21.03624511|\n",
            "|       Aruba|1995|  20.77193616|\n",
            "+------------+----+-------------+\n",
            "only showing top 10 rows\n",
            "\n"
          ]
        }
      ],
      "source": [
        "df2 = melt(CO2emissions, id_vars = ['Country Name'],\n",
        "           value_vars = ['1960', '1961', '1962', '1963', '1964', '1965', '1966', '1967', '1968', '1969',\n",
        "                         '1970', '1971', '1972', '1973', '1974', '1975', '1976', '1977', '1978', '1979',\n",
        "                         '1980', '1981', '1982', '1983', '1984', '1985', '1986', '1987', '1988', '1989',\n",
        "                         '1990', '1991', '1992', '1993', '1994', '1995', '1996', '1997', '1998', '1999',\n",
        "                         '2000', '2001', '2002', '2003', '2004', '2005', '2006', '2007', '2008', '2009',\n",
        "                         '2010', '2011', '2012', '2013', '2014'])\n",
        "df2 = df2.withColumnRenamed('variable', 'Year')\n",
        "df2 = df2.withColumnRenamed('value', 'CO2 emissions')\n",
        "df2 = df2.dropna()\n",
        "\n",
        "df2.show(10)"
      ]
    },
    {
      "cell_type": "code",
      "execution_count": 40,
      "metadata": {
        "colab": {
          "base_uri": "https://localhost:8080/"
        },
        "id": "FSeNy6RR33-4",
        "outputId": "7674b861-ad57-4937-c02d-a412657e6567"
      },
      "outputs": [
        {
          "name": "stdout",
          "output_type": "stream",
          "text": [
            "+--------------------+----+-------------------+-------------+\n",
            "|             Country|Year|            AvgTemp|CO2 emissions|\n",
            "+--------------------+----+-------------------+-------------+\n",
            "|           Australia|1979| 22.252333333333336|  14.12909198|\n",
            "|          Azerbaijan|2007|  12.51483333333333|    3.5553401|\n",
            "|              Canada|1980| -4.416916666666666|  18.02276896|\n",
            "|Central African R...|2007|  26.06783333333333|  0.059175593|\n",
            "|            Colombia|1978| 25.122250000000005|  1.572806879|\n",
            "|             Comoros|1968|            25.4145|  0.083123654|\n",
            "|          Costa Rica|2006| 26.514916666666664|  1.647633189|\n",
            "|             Denmark|1987|-18.201666666666664|  11.37930503|\n",
            "|              Greece|1985| 15.218000000000002|  6.100162266|\n",
            "|               Haiti|2006|           27.22225|   0.22447544|\n",
            "|                Iraq|1969|           22.39125|  2.360357896|\n",
            "|               Italy|1963| 12.604583333333332|  3.215100133|\n",
            "|               Japan|2000| 12.833833333333336|  9.622351624|\n",
            "|              Jordan|1964| 19.022333333333336|  1.128605786|\n",
            "|              Kuwait|1995| 25.491749999999996|  34.03695152|\n",
            "|              Kuwait|1998|           26.67075|  28.17815366|\n",
            "|             Lebanon|2009|           18.85225|  4.989669044|\n",
            "|          Madagascar|1979| 22.990083333333335|  0.133783575|\n",
            "|                Mali|1981|  28.91208333333334|  0.054744182|\n",
            "|          Madagascar|1996| 23.262916666666666|  0.098119443|\n",
            "+--------------------+----+-------------------+-------------+\n",
            "only showing top 20 rows\n",
            "\n"
          ]
        }
      ],
      "source": [
        "# merge two datasets\n",
        "joined_df = df1.join(df2, (df1['Country'] == df2['Country Name']) & (df1['Year'] == df2['Year']), how = 'inner')\n",
        "joined_df = joined_df.select('Country', 'tmp.Year', 'AvgTemp', 'CO2 emissions')\n",
        "joined_df = joined_df[(joined_df['Year'] >= 1960) & (joined_df['Year'] <= 2014)]\n",
        "# joined_df = joined_df.orderBy(asc('Country'), asc('Year'))\n",
        "\n",
        "# show the merged dataset\n",
        "joined_df.show()"
      ]
    },
    {
      "attachments": {},
      "cell_type": "markdown",
      "metadata": {
        "id": "W_VV4knkztbK"
      },
      "source": [
        "---\n",
        "2.   What is the correlation between CO2 emissions and temperature change?\n",
        "---\n"
      ]
    },
    {
      "cell_type": "code",
      "execution_count": 30,
      "metadata": {
        "colab": {
          "base_uri": "https://localhost:8080/"
        },
        "id": "RNzYjbj2CEBr",
        "outputId": "b209a2c9-8571-47a3-c9e8-283b18cbfffd"
      },
      "outputs": [
        {
          "name": "stdout",
          "output_type": "stream",
          "text": [
            "root\n",
            " |-- Country: string (nullable = true)\n",
            " |-- Year: string (nullable = true)\n",
            " |-- AvgTemp: double (nullable = true)\n",
            " |-- CO2 emissions: double (nullable = true)\n",
            "\n"
          ]
        }
      ],
      "source": [
        "joined_df.printSchema()"
      ]
    },
    {
      "cell_type": "code",
      "execution_count": 38,
      "metadata": {
        "colab": {
          "base_uri": "https://localhost:8080/"
        },
        "id": "CyqCUlyuzqnA",
        "outputId": "491b6f19-1387-467e-9de3-4ad9ba7e1d73"
      },
      "outputs": [
        {
          "name": "stdout",
          "output_type": "stream",
          "text": [
            "The correlation between temperature change and CO2 emissions is: 0.21089195280794804\n"
          ]
        }
      ],
      "source": [
        "# calculate the correlation\n",
        "correlation = joined_df.groupBy('Country').agg(corr('AvgTemp', 'CO2 emissions').alias('Correlation'))\n",
        "\n",
        "avg_corr = correlation.agg({\"Correlation\": \"avg\"}).collect()[0][0]\n",
        "\n",
        "print('The correlation between temperature change and CO2 emissions is:', avg_corr)"
      ]
    }
  ],
  "metadata": {
    "colab": {
      "provenance": []
    },
    "kernelspec": {
      "display_name": "Python 3",
      "name": "python3"
    },
    "language_info": {
      "name": "python"
    }
  },
  "nbformat": 4,
  "nbformat_minor": 0
}

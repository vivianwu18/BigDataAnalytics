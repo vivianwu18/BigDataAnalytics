{
 "cells": [
  {
   "cell_type": "code",
   "execution_count": 1,
   "id": "4944ea33",
   "metadata": {},
   "outputs": [],
   "source": [
    "import pandas as pd\n",
    "pd.set_option('display.max_colwidth', None)\n",
    "import numpy as np\n",
    "import scipy.stats as stats\n",
    "from linearmodels.iv import IV2SLS\n",
    "import math"
   ]
  },
  {
   "attachments": {},
   "cell_type": "markdown",
   "id": "5e9590d9",
   "metadata": {},
   "source": [
    "## Game Fun: Customer Acquisition through Digital Advertising"
   ]
  },
  {
   "attachments": {},
   "cell_type": "markdown",
   "id": "e0ef5c2b",
   "metadata": {},
   "source": [
    "**1. Before evaluating the effect of an experiment, it is important to make sure that the experiment was executed correctly. Check whether the test and control groups are probabilistically equivalent on their observables?**\n",
    "\n",
    "        a. More specific, compare the averages of the income, gender and gamer variables in the test and control groups. You should also report the % difference in the averages. Compute its statistical significance."
   ]
  },
  {
   "cell_type": "code",
   "execution_count": 2,
   "id": "d3b950f3",
   "metadata": {},
   "outputs": [
    {
     "data": {
      "text/html": [
       "<div>\n",
       "<style scoped>\n",
       "    .dataframe tbody tr th:only-of-type {\n",
       "        vertical-align: middle;\n",
       "    }\n",
       "\n",
       "    .dataframe tbody tr th {\n",
       "        vertical-align: top;\n",
       "    }\n",
       "\n",
       "    .dataframe thead th {\n",
       "        text-align: right;\n",
       "    }\n",
       "</style>\n",
       "<table border=\"1\" class=\"dataframe\">\n",
       "  <thead>\n",
       "    <tr style=\"text-align: right;\">\n",
       "      <th></th>\n",
       "      <th>id</th>\n",
       "      <th>test</th>\n",
       "      <th>purchase</th>\n",
       "      <th>site</th>\n",
       "      <th>impressions</th>\n",
       "      <th>income</th>\n",
       "      <th>gender</th>\n",
       "      <th>gamer</th>\n",
       "    </tr>\n",
       "  </thead>\n",
       "  <tbody>\n",
       "    <tr>\n",
       "      <th>0</th>\n",
       "      <td>1956</td>\n",
       "      <td>0</td>\n",
       "      <td>0</td>\n",
       "      <td>site1</td>\n",
       "      <td>0</td>\n",
       "      <td>100</td>\n",
       "      <td>1</td>\n",
       "      <td>0</td>\n",
       "    </tr>\n",
       "    <tr>\n",
       "      <th>1</th>\n",
       "      <td>45821</td>\n",
       "      <td>1</td>\n",
       "      <td>0</td>\n",
       "      <td>site1</td>\n",
       "      <td>20</td>\n",
       "      <td>70</td>\n",
       "      <td>1</td>\n",
       "      <td>0</td>\n",
       "    </tr>\n",
       "    <tr>\n",
       "      <th>2</th>\n",
       "      <td>59690</td>\n",
       "      <td>1</td>\n",
       "      <td>0</td>\n",
       "      <td>site1</td>\n",
       "      <td>22</td>\n",
       "      <td>100</td>\n",
       "      <td>1</td>\n",
       "      <td>0</td>\n",
       "    </tr>\n",
       "    <tr>\n",
       "      <th>3</th>\n",
       "      <td>18851</td>\n",
       "      <td>0</td>\n",
       "      <td>0</td>\n",
       "      <td>site1</td>\n",
       "      <td>13</td>\n",
       "      <td>90</td>\n",
       "      <td>1</td>\n",
       "      <td>0</td>\n",
       "    </tr>\n",
       "    <tr>\n",
       "      <th>4</th>\n",
       "      <td>60647</td>\n",
       "      <td>1</td>\n",
       "      <td>0</td>\n",
       "      <td>site1</td>\n",
       "      <td>12</td>\n",
       "      <td>60</td>\n",
       "      <td>1</td>\n",
       "      <td>0</td>\n",
       "    </tr>\n",
       "  </tbody>\n",
       "</table>\n",
       "</div>"
      ],
      "text/plain": [
       "      id  test  purchase   site  impressions  income  gender  gamer\n",
       "0   1956     0         0  site1            0     100       1      0\n",
       "1  45821     1         0  site1           20      70       1      0\n",
       "2  59690     1         0  site1           22     100       1      0\n",
       "3  18851     0         0  site1           13      90       1      0\n",
       "4  60647     1         0  site1           12      60       1      0"
      ]
     },
     "execution_count": 2,
     "metadata": {},
     "output_type": "execute_result"
    }
   ],
   "source": [
    "gamefun = pd.read_excel('GameFun.xlsx')\n",
    "gamefun.head()"
   ]
  },
  {
   "cell_type": "code",
   "execution_count": 3,
   "id": "7db3de7b",
   "metadata": {},
   "outputs": [
    {
     "name": "stderr",
     "output_type": "stream",
     "text": [
      "/Users/vivianwu/opt/anaconda3/lib/python3.7/site-packages/ipykernel_launcher.py:1: FutureWarning: Indexing with multiple keys (implicitly converted to a tuple of keys) will be deprecated, use a list instead.\n",
      "  \"\"\"Entry point for launching an IPython kernel.\n"
     ]
    },
    {
     "data": {
      "text/html": [
       "<div>\n",
       "<style scoped>\n",
       "    .dataframe tbody tr th:only-of-type {\n",
       "        vertical-align: middle;\n",
       "    }\n",
       "\n",
       "    .dataframe tbody tr th {\n",
       "        vertical-align: top;\n",
       "    }\n",
       "\n",
       "    .dataframe thead th {\n",
       "        text-align: right;\n",
       "    }\n",
       "</style>\n",
       "<table border=\"1\" class=\"dataframe\">\n",
       "  <thead>\n",
       "    <tr style=\"text-align: right;\">\n",
       "      <th></th>\n",
       "      <th>income</th>\n",
       "      <th>gender</th>\n",
       "      <th>gamer</th>\n",
       "    </tr>\n",
       "    <tr>\n",
       "      <th>test</th>\n",
       "      <th></th>\n",
       "      <th></th>\n",
       "      <th></th>\n",
       "    </tr>\n",
       "  </thead>\n",
       "  <tbody>\n",
       "    <tr>\n",
       "      <th>0</th>\n",
       "      <td>55.166012</td>\n",
       "      <td>0.647905</td>\n",
       "      <td>0.601823</td>\n",
       "    </tr>\n",
       "    <tr>\n",
       "      <th>1</th>\n",
       "      <td>54.938236</td>\n",
       "      <td>0.647289</td>\n",
       "      <td>0.601331</td>\n",
       "    </tr>\n",
       "    <tr>\n",
       "      <th>% diff</th>\n",
       "      <td>-0.412890</td>\n",
       "      <td>-0.095049</td>\n",
       "      <td>-0.081720</td>\n",
       "    </tr>\n",
       "  </tbody>\n",
       "</table>\n",
       "</div>"
      ],
      "text/plain": [
       "           income    gender     gamer\n",
       "test                                 \n",
       "0       55.166012  0.647905  0.601823\n",
       "1       54.938236  0.647289  0.601331\n",
       "% diff  -0.412890 -0.095049 -0.081720"
      ]
     },
     "execution_count": 3,
     "metadata": {},
     "output_type": "execute_result"
    }
   ],
   "source": [
    "comparison = gamefun.groupby('test')['income', 'gender', 'gamer'].agg('mean')\n",
    "comparison.loc['% diff'] = ((comparison.loc[1] - comparison.loc[0]) / comparison.loc[0]) * 100\n",
    "comparison"
   ]
  },
  {
   "cell_type": "code",
   "execution_count": 4,
   "id": "db292e05",
   "metadata": {},
   "outputs": [],
   "source": [
    "def ttest(df, group, target, standard):\n",
    "    control = df[df[group] == 0][target]\n",
    "    test = df[df[group] == 1][target]\n",
    "    ttest = stats.ttest_ind(control, test)[1]\n",
    "    result = pd.DataFrame({'variable':[target], 'p-value': [ttest]})\n",
    "    result['test result'] = np.where(result['p-value'] < standard, 'Reject H0. Control and test groups are not similar',\n",
    "                                    'Fail to reject H0. Control and test groups are similar.')\n",
    "    return result"
   ]
  },
  {
   "cell_type": "code",
   "execution_count": 5,
   "id": "5b1bd68a",
   "metadata": {},
   "outputs": [
    {
     "data": {
      "text/html": [
       "<div>\n",
       "<style scoped>\n",
       "    .dataframe tbody tr th:only-of-type {\n",
       "        vertical-align: middle;\n",
       "    }\n",
       "\n",
       "    .dataframe tbody tr th {\n",
       "        vertical-align: top;\n",
       "    }\n",
       "\n",
       "    .dataframe thead th {\n",
       "        text-align: right;\n",
       "    }\n",
       "</style>\n",
       "<table border=\"1\" class=\"dataframe\">\n",
       "  <thead>\n",
       "    <tr style=\"text-align: right;\">\n",
       "      <th></th>\n",
       "      <th>index</th>\n",
       "      <th>variable</th>\n",
       "      <th>p-value</th>\n",
       "      <th>test result</th>\n",
       "    </tr>\n",
       "  </thead>\n",
       "  <tbody>\n",
       "    <tr>\n",
       "      <th>0</th>\n",
       "      <td>0</td>\n",
       "      <td>income</td>\n",
       "      <td>0.128358</td>\n",
       "      <td>Fail to reject H0. Control and test groups are similar.</td>\n",
       "    </tr>\n",
       "    <tr>\n",
       "      <th>1</th>\n",
       "      <td>0</td>\n",
       "      <td>gender</td>\n",
       "      <td>0.906033</td>\n",
       "      <td>Fail to reject H0. Control and test groups are similar.</td>\n",
       "    </tr>\n",
       "    <tr>\n",
       "      <th>2</th>\n",
       "      <td>0</td>\n",
       "      <td>gamer</td>\n",
       "      <td>0.926704</td>\n",
       "      <td>Fail to reject H0. Control and test groups are similar.</td>\n",
       "    </tr>\n",
       "  </tbody>\n",
       "</table>\n",
       "</div>"
      ],
      "text/plain": [
       "   index variable   p-value  \\\n",
       "0      0   income  0.128358   \n",
       "1      0   gender  0.906033   \n",
       "2      0    gamer  0.926704   \n",
       "\n",
       "                                               test result  \n",
       "0  Fail to reject H0. Control and test groups are similar.  \n",
       "1  Fail to reject H0. Control and test groups are similar.  \n",
       "2  Fail to reject H0. Control and test groups are similar.  "
      ]
     },
     "execution_count": 5,
     "metadata": {},
     "output_type": "execute_result"
    }
   ],
   "source": [
    "result1 = ttest(gamefun, 'test', 'income', 0.05)\n",
    "result2 = ttest(gamefun, 'test', 'gender', 0.05)\n",
    "result3 = ttest(gamefun, 'test', 'gamer', 0.05)\n",
    "\n",
    "final_result = pd.concat([result1, result2, result3]).reset_index()\n",
    "final_result"
   ]
  },
  {
   "attachments": {},
   "cell_type": "markdown",
   "id": "e7cd0c1c",
   "metadata": {},
   "source": [
    "**2. Evaluate the average purchase rates in the test and control for the following groups. For each comparison, report the average purchase rate for the test, average purchase rate for the control and the absolute difference (not the % difference) between the test and control.**\n",
    "\n",
    "    a. Comparison 1: All customers"
   ]
  },
  {
   "cell_type": "code",
   "execution_count": 28,
   "id": "51c681f4",
   "metadata": {},
   "outputs": [],
   "source": [
    "def diff_calculation(df, group, target, variable = None): \n",
    "    control = df[df[group] == 0]\n",
    "    test = df[df[group] == 1]\n",
    "    \n",
    "    if variable is not None:\n",
    "        \n",
    "        control_mean = control.groupby(variable)[target].agg('mean')\n",
    "        test_mean = test.groupby(variable)[target].agg('mean')\n",
    "       \n",
    "        if len(variable) == 1:\n",
    "            diff = round(((test_mean[1] - control_mean[1]) - (test_mean[0] - control_mean[0])) * 100, 4)\n",
    "            print('The average purchase rate for test:', round(test_mean[1] * 100, 4), '/ ', round(test_mean[0] * 100, 4))\n",
    "            print('The average purchase rate for control:', round(control_mean[1] * 100, 4), '/ ', round(control_mean[0] * 100, 4))\n",
    "            print('The absolute difference:', abs(diff))\n",
    "        \n",
    "        else:\n",
    "            diff = (test_mean[0, 1] - control_mean[0, 1]) - (test_mean[1, 1] - control_mean[1, 1])\n",
    "            diff = round(diff * 100, 4)\n",
    "            print('The average purchase rate for test:', round(test_mean[0, 1] * 100, 4), '/ ', round(test_mean[1, 1] * 100, 4))\n",
    "            print('The average purchase rate for control:', round(control_mean[0, 1] * 100, 4), '/ ', round(control_mean[1, 1] * 100, 4))\n",
    "            print('The absolute difference:', abs(diff))        \n",
    "    \n",
    "    else:\n",
    "        diff = round((test[target].agg('mean') - control[target].agg('mean')) * 100, 4)\n",
    "        print('The average purchase rate for test:', round((test[target].agg('mean') * 100), 4))      \n",
    "        print('The average purchase rate for control:', round((control[target].agg('mean') * 100), 4))\n",
    "        print('The absolute difference:', abs(diff))"
   ]
  },
  {
   "cell_type": "code",
   "execution_count": 29,
   "id": "8bd94cf4",
   "metadata": {},
   "outputs": [
    {
     "name": "stdout",
     "output_type": "stream",
     "text": [
      "The average purchase rate for test: 7.6822\n",
      "The average purchase rate for control: 3.6213\n",
      "The absolute difference: 4.0609\n"
     ]
    }
   ],
   "source": [
    "diff_calculation(gamefun, 'test', 'purchase')"
   ]
  },
  {
   "attachments": {},
   "cell_type": "markdown",
   "id": "bbb2750d",
   "metadata": {},
   "source": [
    "    b. Comparison 2: Male vs Female customers"
   ]
  },
  {
   "cell_type": "code",
   "execution_count": 30,
   "id": "7076389d",
   "metadata": {},
   "outputs": [
    {
     "name": "stdout",
     "output_type": "stream",
     "text": [
      "The average purchase rate for test: 7.4575 /  8.0945\n",
      "The average purchase rate for control: 3.7176 /  3.4442\n",
      "The absolute difference: 0.9103\n"
     ]
    }
   ],
   "source": [
    "diff_calculation(gamefun, 'test', 'purchase', ['gender'])"
   ]
  },
  {
   "attachments": {},
   "cell_type": "markdown",
   "id": "bac12379",
   "metadata": {},
   "source": [
    "    c. Comparison 3: Gamers vs Non-Gamers Customer"
   ]
  },
  {
   "cell_type": "code",
   "execution_count": 31,
   "id": "23ea4292",
   "metadata": {},
   "outputs": [
    {
     "name": "stdout",
     "output_type": "stream",
     "text": [
      "The average purchase rate for test: 10.4487 /  3.5092\n",
      "The average purchase rate for control: 3.5436 /  3.7387\n",
      "The absolute difference: 7.1346\n"
     ]
    }
   ],
   "source": [
    "diff_calculation(gamefun, 'test', 'purchase', ['gamer'])"
   ]
  },
  {
   "attachments": {},
   "cell_type": "markdown",
   "id": "1c9d4d6a",
   "metadata": {},
   "source": [
    "    d. Comparison 4: Female Gamers vs Male Gamers"
   ]
  },
  {
   "cell_type": "code",
   "execution_count": 10,
   "id": "0a7df759",
   "metadata": {},
   "outputs": [
    {
     "name": "stdout",
     "output_type": "stream",
     "text": [
      "The average purchase rate for test: 11.0092 /  10.1404\n",
      "The average purchase rate for control: 3.2041 /  3.7275\n",
      "The absolute difference: 1.3922\n"
     ]
    }
   ],
   "source": [
    "diff_calculation(gamefun, 'test', 'purchase', ['gender', 'gamer'])"
   ]
  },
  {
   "attachments": {},
   "cell_type": "markdown",
   "id": "fb25d71f",
   "metadata": {},
   "source": [
    "**3. Assess the expected revenue in the test vs. control for the following comparisons:**\n",
    "\n",
    "    a. Comparison 1: All customers   "
   ]
  },
  {
   "cell_type": "code",
   "execution_count": 11,
   "id": "91b0a3a4",
   "metadata": {},
   "outputs": [
    {
     "name": "stdout",
     "output_type": "stream",
     "text": [
      "The expected revenue in the control group: $ 1.36\n",
      "The expected revenue in the test group: $ 2.88\n",
      "The difference of expected revenue: $ 1.52\n"
     ]
    }
   ],
   "source": [
    "control = gamefun[gamefun['test'] == 0]\n",
    "test = gamefun[gamefun['test'] == 1]\n",
    "\n",
    "avg_revenue = 37.5\n",
    "\n",
    "control_purchase = control['purchase'].agg('mean')\n",
    "test_purchase = test['purchase'].agg('mean')\n",
    "\n",
    "print('The expected revenue in the control group: $', round(avg_revenue * control_purchase, 2))\n",
    "print('The expected revenue in the test group: $', round((avg_revenue * test_purchase) , 2))\n",
    "print('The difference of expected revenue: $', round((avg_revenue * test_purchase - avg_revenue * control_purchase), 2))"
   ]
  },
  {
   "attachments": {},
   "cell_type": "markdown",
   "id": "70b01887",
   "metadata": {},
   "source": [
    "    b. Comparison 4: Female Gamers vs Male Gamers"
   ]
  },
  {
   "cell_type": "code",
   "execution_count": 12,
   "id": "b209d446",
   "metadata": {},
   "outputs": [
    {
     "name": "stdout",
     "output_type": "stream",
     "text": [
      "The expected revenue in the female gamers control group: $ 1.2\n",
      "The expected revenue in the female gamers test group: $ 4.13\n",
      "The expected revenue in the male gamers control group: $ 1.4\n",
      "The expected revenue in the male gamers test group: $ 3.8\n",
      "---------------------------------------------------------------\n",
      "The difference of expected revenue for female gamers: $ 2.93\n",
      "The difference of expected revenue for male gamers: $ 2.4\n"
     ]
    }
   ],
   "source": [
    "control = gamefun[(gamefun['test'] == 0) & (gamefun['gamer'] == 1)]\n",
    "test = gamefun[(gamefun['test'] == 1) & (gamefun['gamer'] == 1)]\n",
    "\n",
    "avg_revenue = 37.5\n",
    "\n",
    "female_gamers_control = control[control['gender'] == 0]['purchase'].mean()\n",
    "female_gamers_test = test[test['gender'] == 0]['purchase'].mean()\n",
    "male_gamers_control = control[control['gender'] == 1]['purchase'].mean()\n",
    "male_gamers_test = test[test['gender'] == 1]['purchase'].mean()\n",
    "\n",
    "print('The expected revenue in the female gamers control group: $', round(avg_revenue * female_gamers_control, 2))\n",
    "print('The expected revenue in the female gamers test group: $', round((avg_revenue * female_gamers_test) , 2))\n",
    "\n",
    "print('The expected revenue in the male gamers control group: $', round(avg_revenue * male_gamers_control, 2))\n",
    "print('The expected revenue in the male gamers test group: $', round((avg_revenue * male_gamers_test) , 2))\n",
    "\n",
    "print('---------------------------------------------------------------')\n",
    "print('The difference of expected revenue for female gamers: $', \n",
    "      round((avg_revenue * female_gamers_test - avg_revenue * female_gamers_control), 2))\n",
    "print('The difference of expected revenue for male gamers: $', \n",
    "      round((avg_revenue * male_gamers_test - avg_revenue * male_gamers_control), 2))"
   ]
  },
  {
   "attachments": {},
   "cell_type": "markdown",
   "id": "9305335a",
   "metadata": {},
   "source": [
    "## Non-Compliance in Randomized Experiments"
   ]
  },
  {
   "attachments": {},
   "cell_type": "markdown",
   "id": "eeeb4bd0",
   "metadata": {},
   "source": [
    "**1. The first data scientist advised that one should compare the survival rate of babies whose mothers were offered Vitamin A shots to the survival rate of babies whose mothers were not offered a Vitamin A shot.**\n",
    "\n",
    "    a. What percent of babies whose mothers were offered Vitamin A shots for their babies died? "
   ]
  },
  {
   "cell_type": "code",
   "execution_count": 13,
   "id": "1c3daa95",
   "metadata": {},
   "outputs": [
    {
     "data": {
      "text/html": [
       "<div>\n",
       "<style scoped>\n",
       "    .dataframe tbody tr th:only-of-type {\n",
       "        vertical-align: middle;\n",
       "    }\n",
       "\n",
       "    .dataframe tbody tr th {\n",
       "        vertical-align: top;\n",
       "    }\n",
       "\n",
       "    .dataframe thead th {\n",
       "        text-align: right;\n",
       "    }\n",
       "</style>\n",
       "<table border=\"1\" class=\"dataframe\">\n",
       "  <thead>\n",
       "    <tr style=\"text-align: right;\">\n",
       "      <th></th>\n",
       "      <th>instrument</th>\n",
       "      <th>treatment</th>\n",
       "      <th>outcome</th>\n",
       "    </tr>\n",
       "  </thead>\n",
       "  <tbody>\n",
       "    <tr>\n",
       "      <th>0</th>\n",
       "      <td>0</td>\n",
       "      <td>0</td>\n",
       "      <td>0</td>\n",
       "    </tr>\n",
       "    <tr>\n",
       "      <th>1</th>\n",
       "      <td>0</td>\n",
       "      <td>0</td>\n",
       "      <td>0</td>\n",
       "    </tr>\n",
       "    <tr>\n",
       "      <th>2</th>\n",
       "      <td>0</td>\n",
       "      <td>0</td>\n",
       "      <td>0</td>\n",
       "    </tr>\n",
       "    <tr>\n",
       "      <th>3</th>\n",
       "      <td>0</td>\n",
       "      <td>0</td>\n",
       "      <td>0</td>\n",
       "    </tr>\n",
       "    <tr>\n",
       "      <th>4</th>\n",
       "      <td>0</td>\n",
       "      <td>0</td>\n",
       "      <td>0</td>\n",
       "    </tr>\n",
       "  </tbody>\n",
       "</table>\n",
       "</div>"
      ],
      "text/plain": [
       "   instrument  treatment  outcome\n",
       "0           0          0        0\n",
       "1           0          0        0\n",
       "2           0          0        0\n",
       "3           0          0        0\n",
       "4           0          0        0"
      ]
     },
     "execution_count": 13,
     "metadata": {},
     "output_type": "execute_result"
    }
   ],
   "source": [
    "sommerdeger = pd.read_csv('sommer_deger.csv')\n",
    "sommerdeger.head()"
   ]
  },
  {
   "cell_type": "code",
   "execution_count": 14,
   "id": "399b33f5",
   "metadata": {},
   "outputs": [
    {
     "data": {
      "text/plain": [
       "(23682, 3)"
      ]
     },
     "execution_count": 14,
     "metadata": {},
     "output_type": "execute_result"
    }
   ],
   "source": [
    "sommerdeger.shape"
   ]
  },
  {
   "cell_type": "code",
   "execution_count": 15,
   "id": "6d26e48b",
   "metadata": {},
   "outputs": [
    {
     "name": "stdout",
     "output_type": "stream",
     "text": [
      "The percent is: 0.38\n"
     ]
    }
   ],
   "source": [
    "groupA = sommerdeger[sommerdeger['instrument'] == 1]\n",
    "groupB = sommerdeger[sommerdeger['instrument'] == 0]\n",
    "\n",
    "groupA_mortality = round(groupA['outcome'].agg('mean'), 4) * 100\n",
    "print('The percent is:', groupA_mortality)"
   ]
  },
  {
   "attachments": {},
   "cell_type": "markdown",
   "id": "13bc07ca",
   "metadata": {},
   "source": [
    "    b. What percent of babies whose mothers were not offered Vitamin A shots for their babies died?"
   ]
  },
  {
   "cell_type": "code",
   "execution_count": 16,
   "id": "005d60a3",
   "metadata": {},
   "outputs": [
    {
     "name": "stdout",
     "output_type": "stream",
     "text": [
      "The percent is: 0.64\n"
     ]
    }
   ],
   "source": [
    "groupB_mortality = round(groupB['outcome'].agg('mean'), 4) * 100\n",
    "print('The percent is:', groupB_mortality)"
   ]
  },
  {
   "attachments": {},
   "cell_type": "markdown",
   "id": "07b56c28",
   "metadata": {},
   "source": [
    "    c. What is the difference in mortality, and under what assumptions is the difference between these two percentages a valid estimate of the causal impact of receiving vitamin A shots on survival?"
   ]
  },
  {
   "cell_type": "code",
   "execution_count": 17,
   "id": "d73abc79",
   "metadata": {},
   "outputs": [
    {
     "name": "stdout",
     "output_type": "stream",
     "text": [
      "The difference in mortality is: -0.26\n"
     ]
    }
   ],
   "source": [
    "diff_mortality = groupA_mortality - groupB_mortality\n",
    "print('The difference in mortality is:', diff_mortality)"
   ]
  },
  {
   "attachments": {},
   "cell_type": "markdown",
   "id": "c8560e20",
   "metadata": {},
   "source": [
    "Assuming that the only difference between these two groups is whether or not babies' mothers were offered Vitamin A shots for their babies and that there are no other confounding variables that would affect the outcome, the difference in mortality is a valid estimate of the causal impact of receiving Vitamin A shots on survival."
   ]
  },
  {
   "attachments": {},
   "cell_type": "markdown",
   "id": "8232817b",
   "metadata": {},
   "source": [
    "**2. The second data scientist advised that one should compare the survival rates of babies who received Vitamin A shots to babies who did not receive Vitamin A shots.**\n",
    "\n",
    "    a. What percent of babies who received Vitamin A shots died? "
   ]
  },
  {
   "cell_type": "code",
   "execution_count": 18,
   "id": "3287833a",
   "metadata": {},
   "outputs": [
    {
     "name": "stdout",
     "output_type": "stream",
     "text": [
      "The percent is: 0.12\n"
     ]
    }
   ],
   "source": [
    "groupC = sommerdeger[sommerdeger['treatment'] == 1]\n",
    "groupD = sommerdeger[sommerdeger['treatment'] == 0]\n",
    "\n",
    "groupC_mortality = round(groupC['outcome'].agg('mean'), 4) * 100\n",
    "print('The percent is:', groupC_mortality)"
   ]
  },
  {
   "attachments": {},
   "cell_type": "markdown",
   "id": "606b66f7",
   "metadata": {},
   "source": [
    "    b. What percent of babies who did not receive Vitamin A shots died?"
   ]
  },
  {
   "cell_type": "code",
   "execution_count": 19,
   "id": "7922dee6",
   "metadata": {},
   "outputs": [
    {
     "name": "stdout",
     "output_type": "stream",
     "text": [
      "The percent is: 0.77\n"
     ]
    }
   ],
   "source": [
    "groupD_mortality = round(groupD['outcome'].agg('mean'), 4) * 100\n",
    "print('The percent is:', groupD_mortality)"
   ]
  },
  {
   "attachments": {},
   "cell_type": "markdown",
   "id": "b968c079",
   "metadata": {},
   "source": [
    "    c. What is the difference in mortality, and under what assumptions is the difference between these two percentages a valid estimate of the causal impact of receiving vitamin A shots on survival?"
   ]
  },
  {
   "cell_type": "code",
   "execution_count": 20,
   "id": "cb1a35ce",
   "metadata": {},
   "outputs": [
    {
     "name": "stdout",
     "output_type": "stream",
     "text": [
      "The difference in mortality is: -0.65\n"
     ]
    }
   ],
   "source": [
    "diff_mortality = groupC_mortality - groupD_mortality\n",
    "print('The difference in mortality is:', diff_mortality)"
   ]
  },
  {
   "attachments": {},
   "cell_type": "markdown",
   "id": "5d060c92",
   "metadata": {},
   "source": [
    "Assuming that the only difference between these two groups is whether or not the baby got the vitamin A shot and that there are no other confounding variables that would affect the outcome, the difference in mortality is a valid estimate of the causal impact of receiving Vitamin A shots on survival."
   ]
  },
  {
   "attachments": {},
   "cell_type": "markdown",
   "id": "3b311f74",
   "metadata": {},
   "source": [
    "**3. The third data scientist advised that one should consider only babies whose mothers were offered Vitamin A shots, and compare babies who received shots to babies who did not receive shots.**\n",
    "\n",
    "    a. What percent of babies who received Vitamin A shots died?"
   ]
  },
  {
   "cell_type": "code",
   "execution_count": 21,
   "id": "e4015f3e",
   "metadata": {},
   "outputs": [
    {
     "name": "stdout",
     "output_type": "stream",
     "text": [
      "The percent is: 0.12\n"
     ]
    }
   ],
   "source": [
    "groupE = groupA[groupA['treatment'] == 1]\n",
    "groupF = groupA[groupA['treatment'] == 0]\n",
    "\n",
    "groupE_mortality = round(groupE['outcome'].agg('mean'), 4) * 100\n",
    "print('The percent is:', groupE_mortality)"
   ]
  },
  {
   "attachments": {},
   "cell_type": "markdown",
   "id": "6e501dce",
   "metadata": {},
   "source": [
    "    b. What percent of babies whose mothers were offered Vitamin A shots, but the mothers did not accept them, died?"
   ]
  },
  {
   "cell_type": "code",
   "execution_count": 22,
   "id": "fe181379",
   "metadata": {},
   "outputs": [
    {
     "name": "stdout",
     "output_type": "stream",
     "text": [
      "The percent is: 1.41\n"
     ]
    }
   ],
   "source": [
    "groupF_mortality = round(groupF['outcome'].agg('mean'), 4) * 100\n",
    "print('The percent is:', groupF_mortality)"
   ]
  },
  {
   "attachments": {},
   "cell_type": "markdown",
   "id": "c0a30740",
   "metadata": {},
   "source": [
    "    c. What is the difference in mortality, and under what assumptions is the difference between these two percentages a valid estimate of the causal impact of receiving vitamin A shots on survival?"
   ]
  },
  {
   "cell_type": "code",
   "execution_count": 23,
   "id": "1bc3e85b",
   "metadata": {},
   "outputs": [
    {
     "name": "stdout",
     "output_type": "stream",
     "text": [
      "The difference in mortality is: -1.29\n"
     ]
    }
   ],
   "source": [
    "diff_mortality = groupE_mortality - groupF_mortality\n",
    "print('The difference in mortality is:', diff_mortality)"
   ]
  },
  {
   "attachments": {},
   "cell_type": "markdown",
   "id": "13949563",
   "metadata": {},
   "source": [
    "Assuming that the only difference between these two groups (both groups were offered the vitamin A shot) is whether or not the baby got the vitamin A shot and that there are no other confounding variables that would affect the outcome, the difference in mortality is a valid estimate of the causal impact of receiving Vitamin A shots on survival. However, as the mortality rate among babies whose mothers were offered vitamin A shots but not accept them is much higher that the mortality rate among babies who did not receive the shots, it suggests that there may be other factors, such as the health status of babies or their mothers' decision-making process, that influence the outcome."
   ]
  },
  {
   "attachments": {},
   "cell_type": "markdown",
   "id": "f07de9b2",
   "metadata": {},
   "source": [
    "**4. The fourth data scientist suggested the following Wald estimator for the effect of Vitamin A shots on mortality:**\n",
    "\n",
    "\n",
    "$$\\frac{\\% \\text{ of babies offered shot that died} - \\% \\text{ of babies not offered shots that died}}\n",
    "{ \\% \\text{ of babies who were offered a shot and received it}}$$\n"
   ]
  },
  {
   "attachments": {},
   "cell_type": "markdown",
   "id": "27400ecd",
   "metadata": {},
   "source": [
    "    a. Compute the above Wald estimate for the given dataset."
   ]
  },
  {
   "cell_type": "code",
   "execution_count": 24,
   "id": "8bf350d4",
   "metadata": {},
   "outputs": [
    {
     "name": "stdout",
     "output_type": "stream",
     "text": [
      "                          IV-2SLS Estimation Summary                          \n",
      "==============================================================================\n",
      "Dep. Variable:                outcome   R-squared:                      0.0015\n",
      "Estimator:                    IV-2SLS   Adj. R-squared:                 0.0015\n",
      "No. Observations:               23682   F-statistic:                    7.7551\n",
      "Date:                Fri, Apr 14 2023   P-value (F-stat)                0.0054\n",
      "Time:                        12:55:46   Distribution:                  chi2(1)\n",
      "Cov. Estimator:                robust                                         \n",
      "                                                                              \n",
      "                             Parameter Estimates                              \n",
      "==============================================================================\n",
      "            Parameter  Std. Err.     T-stat    P-value    Lower CI    Upper CI\n",
      "------------------------------------------------------------------------------\n",
      "Intercept      0.0064     0.0007     8.6299     0.0000      0.0049      0.0078\n",
      "treatment     -0.0032     0.0012    -2.7848     0.0054     -0.0055     -0.0010\n",
      "==============================================================================\n",
      "\n",
      "Endogenous: treatment\n",
      "Instruments: instrument\n",
      "Robust Covariance (Heteroskedastic)\n",
      "Debiased: False\n"
     ]
    }
   ],
   "source": [
    "# calculate two-stage least square\n",
    "model = IV2SLS.from_formula('outcome ~ 1 + [treatment ~ instrument]', data = sommerdeger)\n",
    "\n",
    "results = model.fit()\n",
    "print(results.summary)"
   ]
  },
  {
   "cell_type": "code",
   "execution_count": 25,
   "id": "a58afa6e",
   "metadata": {},
   "outputs": [
    {
     "name": "stdout",
     "output_type": "stream",
     "text": [
      "The Wald estimate is: -0.32\n"
     ]
    }
   ],
   "source": [
    "print('The Wald estimate is:', round(results.params[1] * 100, 2))"
   ]
  },
  {
   "attachments": {},
   "cell_type": "markdown",
   "id": "7868bff1",
   "metadata": {},
   "source": [
    "    b. What is the standard error for the intent-to-treat estimate recommended by the first data scientist? What is the standard error for the Wald estimate recommended by the fourth data scientist?"
   ]
  },
  {
   "cell_type": "code",
   "execution_count": 26,
   "id": "94490981",
   "metadata": {},
   "outputs": [
    {
     "name": "stdout",
     "output_type": "stream",
     "text": [
      "The standard error for the estimate recommended by the first data scientist: 0.0009\n"
     ]
    }
   ],
   "source": [
    "# calculate the standard error for the intent-to-treat estimate\n",
    "se1 = math.sqrt((groupA_mortality/ 100 * (1 - groupA_mortality/ 100)) / len(groupA) +\n",
    "                (groupB_mortality/ 100 * (1 - groupB_mortality/ 100)) / len(groupB))\n",
    "\n",
    "print('The standard error for the estimate recommended by the first data scientist:', round(se1, 4))"
   ]
  },
  {
   "cell_type": "code",
   "execution_count": 27,
   "id": "0b689320",
   "metadata": {},
   "outputs": [
    {
     "name": "stdout",
     "output_type": "stream",
     "text": [
      "The standard error for the Wald estimate recommended by the fourth data scientist: 0.0012\n"
     ]
    }
   ],
   "source": [
    "# calculate the standard error for the Wald estimate\n",
    "print('The standard error for the Wald estimate recommended by the fourth data scientist:', round(results.std_errors[1], 4))"
   ]
  }
 ],
 "metadata": {
  "kernelspec": {
   "display_name": "Python 3 (ipykernel)",
   "language": "python",
   "name": "python3"
  },
  "language_info": {
   "codemirror_mode": {
    "name": "ipython",
    "version": 3
   },
   "file_extension": ".py",
   "mimetype": "text/x-python",
   "name": "python",
   "nbconvert_exporter": "python",
   "pygments_lexer": "ipython3",
   "version": "3.7.16"
  }
 },
 "nbformat": 4,
 "nbformat_minor": 5
}
